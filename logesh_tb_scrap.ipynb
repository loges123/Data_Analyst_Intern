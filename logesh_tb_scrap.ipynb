{
  "nbformat": 4,
  "nbformat_minor": 0,
  "metadata": {
    "colab": {
      "provenance": []
    },
    "kernelspec": {
      "name": "python3",
      "display_name": "Python 3"
    },
    "language_info": {
      "name": "python"
    }
  },
  "cells": [
    {
      "cell_type": "code",
      "execution_count": 1,
      "metadata": {
        "id": "iWLH1WtLnhwP"
      },
      "outputs": [],
      "source": [
        "import requests"
      ]
    },
    {
      "cell_type": "code",
      "source": [
        "import bs4"
      ],
      "metadata": {
        "id": "03MpLq0enlWR"
      },
      "execution_count": 2,
      "outputs": []
    },
    {
      "cell_type": "code",
      "source": [
        "import pandas as pd"
      ],
      "metadata": {
        "id": "K8BH7Vrknmkq"
      },
      "execution_count": 3,
      "outputs": []
    },
    {
      "cell_type": "code",
      "source": [
        "from bs4 import BeautifulSoup"
      ],
      "metadata": {
        "id": "PzShYCa0nort"
      },
      "execution_count": 4,
      "outputs": []
    },
    {
      "cell_type": "code",
      "source": [
        "url='https://www.cashify.in/best-processor-for-mobile-phone-ranking-list'"
      ],
      "metadata": {
        "id": "IH6yA1svnuD1"
      },
      "execution_count": 5,
      "outputs": []
    },
    {
      "cell_type": "code",
      "source": [
        "ws=requests.get(url)"
      ],
      "metadata": {
        "id": "7vvfuS8knyAJ"
      },
      "execution_count": 6,
      "outputs": []
    },
    {
      "cell_type": "code",
      "source": [
        "soup=BeautifulSoup(ws.content,'html')"
      ],
      "metadata": {
        "id": "fT5NDXhsn2Vt"
      },
      "execution_count": 7,
      "outputs": []
    },
    {
      "cell_type": "code",
      "source": [
        "table=soup.find('table')"
      ],
      "metadata": {
        "id": "-yjNmTGsn9YC"
      },
      "execution_count": 8,
      "outputs": []
    },
    {
      "cell_type": "code",
      "source": [
        "table\n"
      ],
      "metadata": {
        "colab": {
          "base_uri": "https://localhost:8080/"
        },
        "id": "d_nK6PS3oCqr",
        "outputId": "83c7e8eb-afad-4e41-b39d-6e7b942f23c0"
      },
      "execution_count": 9,
      "outputs": [
        {
          "output_type": "execute_result",
          "data": {
            "text/plain": [
              "<table><thead><tr><th class=\"has-text-align-center\" data-align=\"center\">Rank</th><th>Processor Name</th><th>Phone</th><th>AnTuTu 10</th><th>GeekBench 6*</th></tr></thead><tbody><tr><td class=\"has-text-align-center\" data-align=\"center\">1</td><td>Apple A18 Pro</td><td>Apple iPhone 16 Pro, Apple iPhone 16 Pro Max</td><td>TBA</td><td>3429/8790</td></tr><tr><td class=\"has-text-align-center\" data-align=\"center\">2</td><td>Dimensity 9300 Plus</td><td>Vivo X100s, Vivo X100s Pro, iQOO Neo 9s Pro</td><td>2305267</td><td>2343/7743</td></tr><tr><td class=\"has-text-align-center\" data-align=\"center\">3</td><td>Dimensity 9300</td><td>Vivo X100 series</td><td>2257733</td><td>2239 / 7538</td></tr><tr><td class=\"has-text-align-center\" data-align=\"center\">4</td><td>Snapdragon 8 Gen 3</td><td>Samsung Galaxy S24 Ultra, OnePlus 12</td><td>1771106</td><td>2563 / 7256</td></tr><tr><td class=\"has-text-align-center\" data-align=\"center\">5</td><td>Apple A17 Pro</td><td>Apple iPhone 15 Pro Max</td><td>1549189</td><td>3269 / 7666</td></tr><tr><td class=\"has-text-align-center\" data-align=\"center\">6</td><td>Apple A18 </td><td>Apple iPhone 16 </td><td>TBA</td><td>3114/6666</td></tr><tr><td class=\"has-text-align-center\" data-align=\"center\">7</td><td>Exynos 2400</td><td>Samsung Galaxy S24, Samsung Galaxy S24 Plus</td><td>1777263</td><td>2196 / 6964</td></tr><tr><td class=\"has-text-align-center\" data-align=\"center\">8</td><td>Snapdragon 8s Gen 3</td><td>Redmi Turbo 3, iQOO Z9 Turbo, Xiaomi Civi 14 Pro</td><td>1554839</td><td>2019/5570</td></tr><tr><td class=\"has-text-align-center\" data-align=\"center\">9</td><td>Apple A16 Bionic</td><td>Apple iPhone 15</td><td>1339596</td><td>1887 / 5455</td></tr><tr><td class=\"has-text-align-center\" data-align=\"center\">10</td><td>Dimensity 9200 Plus</td><td>Xiaomi 13T Pro</td><td>1520871</td><td>2090 / 5532</td></tr><tr><td class=\"has-text-align-center\" data-align=\"center\">11</td><td>Snapdragon 8 Gen 2</td><td>Samsung Galaxy S23 Ultra</td><td>1227562</td><td>1485 / 4918</td></tr><tr><td class=\"has-text-align-center\" data-align=\"center\">12</td><td>Snapdragon 7 Plus Gen 3</td><td>OnePlus Ace 3v </td><td>1,366,982</td><td>2019/5570</td></tr><tr><td class=\"has-text-align-center\" data-align=\"center\">13</td><td>Snapdragon 8 Plus Gen 1</td><td>Samsung Galaxy Z Fold 4,iQOO Neo 7 Pro, Nothing Phone (2), OnePlus 11R</td><td>1292839</td><td>1767 / 4591</td></tr><tr><td class=\"has-text-align-center\" data-align=\"center\">14</td><td>Dimensity 9200</td><td>Vivo X90 5G</td><td>1,260,549</td><td>1296 / 4958</td></tr><tr><td class=\"has-text-align-center\" data-align=\"center\">15</td><td>Apple A15 Bionic</td><td>Apple iPhone 13</td><td>1299090</td><td>1722 / 4685</td></tr><tr><td class=\"has-text-align-center\" data-align=\"center\">16</td><td>Dimensity 8300</td><td>Poco X6 Pro</td><td>1373164</td><td>1505 / 4829</td></tr><tr><td class=\"has-text-align-center\" data-align=\"center\">17</td><td>Dimensity 9000 Plus</td><td>Oppo Find N2 Flip</td><td>1,149,845</td><td>1349 / 4342</td></tr><tr><td class=\"has-text-align-center\" data-align=\"center\">18</td><td>Google Tensor G3</td><td>Google Pixel 8 Pro</td><td>1142697</td><td>1760 / 4442</td></tr><tr><td class=\"has-text-align-center\" data-align=\"center\">19</td><td>Dimensity 9000</td><td>Vivo X80</td><td>1,049,081</td><td>1179/4189</td></tr><tr><td class=\"has-text-align-center\" data-align=\"center\">20</td><td>Snapdragon 8 Gen 1</td><td>OnePlus 10 Pro</td><td>1,029,556</td><td>1259/4189</td></tr><tr><td class=\"has-text-align-center\" data-align=\"center\">21</td><td>Snapdragon 7 Plus Gen 2</td><td>Poco F5</td><td>1120902</td><td>1697 / 4404</td></tr><tr><td class=\"has-text-align-center\" data-align=\"center\">22</td><td>Apple A14 Bionic</td><td>Apple iPhone 12</td><td>611843</td><td>1613 / 3909</td></tr><tr><td class=\"has-text-align-center\" data-align=\"center\">23</td><td>Snapdragon 888 Plus</td><td>Asus ROG Phone 5S</td><td>863552</td><td>1160 / 2834</td></tr><tr><td class=\"has-text-align-center\" data-align=\"center\">24</td><td>Exynos 2200</td><td>Samsung Galaxy S22 Ultra</td><td>965,874</td><td>934/2925</td></tr><tr><td class=\"has-text-align-center\" data-align=\"center\">25</td><td>Snapdragon 7 Gen 3</td><td>Motorola Edge 50 Pro, OnePlus Nord CE 4</td><td>866863</td><td>1139/3375</td></tr><tr><td class=\"has-text-align-center\" data-align=\"center\">26</td><td>Snapdragon 7s Gen 3 </td><td>TBA</td><td>TBA</td><td>TBA</td></tr><tr><td class=\"has-text-align-center\" data-align=\"center\">27</td><td>Snapdragon 888</td><td>OnePlus 9</td><td>722907</td><td>1140 / 3745</td></tr><tr><td class=\"has-text-align-center\" data-align=\"center\">28</td><td>Dimensity 8100</td><td>Realme GT Neo 3</td><td>809443</td><td>1003/2607</td></tr><tr><td class=\"has-text-align-center\" data-align=\"center\">29</td><td>Tensor G2</td><td>Google Pixel 7 Pro</td><td>801,116</td><td>1054 / 3138</td></tr><tr><td class=\"has-text-align-center\" data-align=\"center\">30</td><td>Exynos 2100</td><td>Samsung Galaxy S21</td><td>698965</td><td>1085 / 3654</td></tr><tr><td class=\"has-text-align-center\" data-align=\"center\">31</td><td>Google Tensor</td><td>Google Pixel 6 Pro</td><td>676789</td><td>1056 / 2855</td></tr><tr><td class=\"has-text-align-center\" data-align=\"center\">32</td><td>Apple A13 Bionic</td><td>Apple iPhone 11</td><td>524846</td><td>1345 / 3568</td></tr><tr><td class=\"has-text-align-center\" data-align=\"center\">33</td><td>Snapdragon 6 Gen 3 </td><td>TBA</td><td>TBA</td><td>TBA</td></tr><tr><td class=\"has-text-align-center\" data-align=\"center\">34</td><td>Snapdragon 6 Gen 1</td><td>Realme 12 Pro 5G</td><td>581109</td><td>952/2749</td></tr><tr><td class=\"has-text-align-center\" data-align=\"center\">35</td><td>Exynos 1480</td><td>Samsung Galaxy A55</td><td>723950</td><td>1168/3503</td></tr><tr><td class=\"has-text-align-center\" data-align=\"center\">36</td><td>Dimensity 8050</td><td>Tecno Camon 20 Premier</td><td>752312</td><td>1097/3359</td></tr><tr><td class=\"has-text-align-center\" data-align=\"center\">37</td><td>Dimensity 7200</td><td>Nothing Phone (2a)</td><td>712093</td><td>1187 / 2643</td></tr><tr><td class=\"has-text-align-center\" data-align=\"center\">38</td><td>Apple A12 Bionic</td><td>Apple iPhone XS Max</td><td>649791</td><td>1292 / 2837</td></tr><tr><td class=\"has-text-align-center\" data-align=\"center\">39</td><td>Snapdragon 782G</td><td>OnePlus Nord CE 3</td><td>657388</td><td>1119 / 2820</td></tr><tr><td class=\"has-text-align-center\" data-align=\"center\">40</td><td>Exynos 990</td><td>Samsung Galaxy S20 Ultra</td><td>727249</td><td>840 / 2670</td></tr><tr><td class=\"has-text-align-center\" data-align=\"center\">41</td><td>Snapdragon 7 Gen 1</td><td>Samsung Galaxy M55</td><td>665570</td><td>964 / 2761</td></tr><tr><td class=\"has-text-align-center\" data-align=\"center\">42</td><td>Snapdragon 780G</td><td>Xiaomi Mi 11 Lite 5G</td><td>633483</td><td>1040 / 2743</td></tr><tr><td class=\"has-text-align-center\" data-align=\"center\">43</td><td>Snapdragon 860</td><td>POCO X3 Pro</td><td>635611</td><td>988 / 2560</td></tr><tr><td class=\"has-text-align-center\" data-align=\"center\">44</td><td>Snapdragon 855+</td><td>ASUS ROG Phone III</td><td>621119</td><td>1031 / 2864</td></tr><tr><td class=\"has-text-align-center\" data-align=\"center\">45</td><td>Snapdragon 778G</td><td>Motorola Moto Edge 30</td><td>597882</td><td>1017 / 2841</td></tr><tr><td class=\"has-text-align-center\" data-align=\"center\">46</td><td>Snapdragon 7s Gen 2</td><td>Realme 12 Pro Plus</td><td>593093</td><td>1012 / 2943</td></tr><tr><td class=\"has-text-align-center\" data-align=\"center\">47</td><td>Exynos 1380</td><td>Samsung Galaxy F54</td><td>593369</td><td>999 / 2758</td></tr><tr><td class=\"has-text-align-center\" data-align=\"center\">48</td><td>Snapdragon 855</td><td>OnePlus 7 Pro</td><td>589781</td><td>930 / 2834</td></tr><tr><td class=\"has-text-align-center\" data-align=\"center\">49</td><td>Dimensity 7030</td><td>Motorola Moto Edge 40 Neo</td><td>526856</td><td>1024 / 2412</td></tr><tr><td class=\"has-text-align-center\" data-align=\"center\">50</td><td>Dimensity 7350 </td><td>Nothing Phone (2a) Plus</td><td></td><td></td></tr><tr><td class=\"has-text-align-center\" data-align=\"center\">51</td><td>Dimensity 7300x</td><td>Motorola Razr 50</td><td></td><td>1033/2751</td></tr><tr><td class=\"has-text-align-center\" data-align=\"center\">52</td><td>Dimensity 7300</td><td>CMF by Nothing Phone (1)</td><td>741703</td><td>1043/2944</td></tr><tr><td class=\"has-text-align-center\" data-align=\"center\">53</td><td>Dimensity 7050</td><td>Realme Narzo 70 Pro</td><td>564336</td><td>956 / 2343</td></tr><tr><td class=\"has-text-align-center\" data-align=\"center\">54</td><td>Dimensity 7025</td><td>Motorola Moto G64 5G</td><td>495066</td><td>1024 / 2472</td></tr><tr><td class=\"has-text-align-center\" data-align=\"center\">55</td><td>Snapdragon 6 Gen 1</td><td>Vivo T3x 5G</td><td>559333</td><td>943 / 2748</td></tr><tr><td class=\"has-text-align-center\" data-align=\"center\">56</td><td>Snapdragon 6s Gen 3 </td><td>Motorola G85</td><td>438440</td><td>908/2134</td></tr><tr><td class=\"has-text-align-center\" data-align=\"center\">57</td><td>Dimensity 1000+</td><td>Xiaomi Redmi K30 Ultra</td><td>486043</td><td>804/2808</td></tr><tr><td class=\"has-text-align-center\" data-align=\"center\">58</td><td>Dimensity 7020</td><td>Infinix Note 40 Pro 5G</td><td>464375</td><td>884/2291</td></tr><tr><td class=\"has-text-align-center\" data-align=\"center\">59</td><td>Dimensity 930</td><td>Vivo Y77 5G</td><td>462254</td><td>920/2325</td></tr><tr><td class=\"has-text-align-center\" data-align=\"center\">60</td><td>Snapdragon 4 Gen 2</td><td>Poco M6 Pro 5G</td><td>427069</td><td>918/2121</td></tr><tr><td class=\"has-text-align-center\" data-align=\"center\">61</td><td>Snapdragon 695</td><td>Motorola Moto G84 </td><td>438461</td><td>908/2134</td></tr><tr><td class=\"has-text-align-center\" data-align=\"center\">62</td><td>Snapdragon 4s Gen 2 </td><td>Xiaomi Redmi 14R</td><td>TBA</td><td>TBA</td></tr><tr><td class=\"has-text-align-center\" data-align=\"center\">63</td><td>Snapdragon 765G</td><td>Google Pixel 5</td><td>422755</td><td>797/1844</td></tr><tr><td class=\"has-text-align-center\" data-align=\"center\">64</td><td>Snapdragon 845</td><td>Poco F1</td><td>466347</td><td>564/2074</td></tr><tr><td class=\"has-text-align-center\" data-align=\"center\">65</td><td>Exynos 1280</td><td>Samsung Galaxy F34 5G</td><td>468341</td><td>851/1913</td></tr><tr><td class=\"has-text-align-center\" data-align=\"center\">66</td><td>Snapdragon 750G</td><td>OnePlus Nord CE 5G</td><td>406989</td><td>875/2095</td></tr><tr><td class=\"has-text-align-center\" data-align=\"center\">67</td><td>MediaTek Dimensity 6100 Plus</td><td>Realme Narzo 70x</td><td>393210</td><td>728/1938</td></tr><tr><td class=\"has-text-align-center\" data-align=\"center\">68</td><td>MediaTek Dimensity 6080</td><td>Poco X6 Neo</td><td>429595</td><td>767/2057</td></tr><tr><td class=\"has-text-align-center\" data-align=\"center\">69</td><td>Snapdragon 4 Gen 1 </td><td>Xiaomi Redmi Note 12 </td><td>414048</td><td>837/1875</td></tr><tr><td class=\"has-text-align-center\" data-align=\"center\">70</td><td>Snapdragon 480 Plus</td><td>Nokia G42 </td><td>397591</td><td>862/1857</td></tr><tr><td class=\"has-text-align-center\" data-align=\"center\">71</td><td>MediaTek Dimensity 810</td><td>Realme 9i 5G</td><td>429221</td><td>780/1940</td></tr><tr><td class=\"has-text-align-center\" data-align=\"center\">72</td><td>MediaTek Dimensity 800U</td><td>Vivo V21 5G</td><td>433106</td><td>752/1836</td></tr><tr><td class=\"has-text-align-center\" data-align=\"center\">73</td><td>MediaTek 800</td><td>Oppo A92s</td><td>481286</td><td>638/2255</td></tr><tr><td class=\"has-text-align-center\" data-align=\"center\">74</td><td>Exynos 980</td><td>Samsung Galaxy A71 5G</td><td>430012</td><td>861/1858</td></tr><tr><td class=\"has-text-align-center\" data-align=\"center\">75</td><td>Kirin 810</td><td>Huawei Honor 9x Pro</td><td>415203</td><td>861/1983</td></tr><tr><td class=\"has-text-align-center\" data-align=\"center\">76</td><td>Dimensity 6020</td><td>Vivo T2x 5G</td><td>407111</td><td>732/1924</td></tr><tr><td class=\"has-text-align-center\" data-align=\"center\">77</td><td>Helio G99</td><td>Poco M5 </td><td>415061</td><td>729/1979</td></tr><tr><td class=\"has-text-align-center\" data-align=\"center\">78</td><td>Snapdragon 732G</td><td>Xiaomi Redmi Note 10 Pro</td><td>395516</td><td>747/1843</td></tr><tr><td class=\"has-text-align-center\" data-align=\"center\">79</td><td>Dimensity 720</td><td>Samsung Galaxy M32 5G</td><td>388163</td><td>770/1844</td></tr><tr><td class=\"has-text-align-center\" data-align=\"center\">80</td><td>Snapdragon 690</td><td>Sony Xperia 10 III</td><td>362813</td><td>792/1889</td></tr><tr><td class=\"has-text-align-center\" data-align=\"center\">81</td><td>Snapdragon 720G</td><td>Poco M2 Pro</td><td>389839</td><td>750/1774</td></tr><tr><td class=\"has-text-align-center\" data-align=\"center\">82</td><td>Snapdragon 480</td><td>Motorola Moto G Stylus</td><td>356931</td><td>693/1802</td></tr><tr><td class=\"has-text-align-center\" data-align=\"center\">83</td><td>Dimensity 700</td><td>Oppo A78 5G</td><td>388228</td><td>711/1783</td></tr><tr><td class=\"has-text-align-center\" data-align=\"center\">84</td><td>Snapdragon 730G</td><td>Google Pixel 4A</td><td>380146</td><td>697/1809</td></tr><tr><td class=\"has-text-align-center\" data-align=\"center\">85</td><td>Exynos 9810</td><td>Samsung Galaxy S9</td><td>453442</td><td>559/1840</td></tr><tr><td class=\"has-text-align-center\" data-align=\"center\">86</td><td>Helio G95</td><td>Micromax IN Note 2</td><td>410282</td><td>636/1738</td></tr><tr><td class=\"has-text-align-center\" data-align=\"center\">87</td><td>Helio G90T</td><td>Xiaomi Redmi Note 8 Pro</td><td>375286</td><td>649/1835</td></tr><tr><td class=\"has-text-align-center\" data-align=\"center\">88</td><td>A10 Fusion</td><td>Apple iPhone 7</td><td>358532</td><td>691/1629</td></tr><tr><td class=\"has-text-align-center\" data-align=\"center\">89</td><td>Snapdragon 685</td><td>Xiaomi Redmi Note 12</td><td>346959</td><td>473/1510</td></tr><tr><td class=\"has-text-align-center\" data-align=\"center\">90</td><td>Snapdragon 680</td><td>Xiaomi Redmi 10 Power</td><td>309344</td><td>412/1444</td></tr><tr><td class=\"has-text-align-center\" data-align=\"center\">91</td><td>Helio G96</td><td>Poco M4 Pro</td><td>386760</td><td>645/1855</td></tr><tr><td class=\"has-text-align-center\" data-align=\"center\">92</td><td>Snapdragon 678</td><td>Xiaomi Redmi Note 10</td><td>338231</td><td>680/1556</td></tr><tr><td class=\"has-text-align-center\" data-align=\"center\">93</td><td>Exynos 8895</td><td>Samsung Galaxy S8</td><td>379907</td><td>418/1429</td></tr><tr><td class=\"has-text-align-center\" data-align=\"center\">94</td><td>Snapdragon 712</td><td>Vivo V19</td><td>321183</td><td>446/1436</td></tr><tr><td class=\"has-text-align-center\" data-align=\"center\">95</td><td>Snapdragon 675</td><td>Xiaomi Redmi Note 7 Pro</td><td>316077</td><td>671/1695</td></tr><tr><td class=\"has-text-align-center\" data-align=\"center\">96</td><td>Snapdragon 835</td><td>Google Pixel 2</td><td>368607</td><td>415/1508</td></tr><tr><td class=\"has-text-align-center\" data-align=\"center\">97</td><td>Helio P95</td><td>Oppo A54</td><td>299534</td><td>456/1541</td></tr><tr><td class=\"has-text-align-center\" data-align=\"center\">98</td><td>Kirin 970</td><td>Huawei P20 </td><td>38330</td><td>383/1373</td></tr><tr><td class=\"has-text-align-center\" data-align=\"center\">99</td><td>Snapdragon 710</td><td>Nokia 8.1</td><td>298526</td><td>445/1352</td></tr><tr><td class=\"has-text-align-center\" data-align=\"center\">100</td><td>Helio G91</td><td>Itel S24</td><td>271623</td><td>429/1389</td></tr></tbody></table>"
            ]
          },
          "metadata": {},
          "execution_count": 9
        }
      ]
    },
    {
      "cell_type": "code",
      "source": [
        "table_th=table.find_all('th')"
      ],
      "metadata": {
        "id": "LbMErX3koEoi"
      },
      "execution_count": 11,
      "outputs": []
    },
    {
      "cell_type": "code",
      "source": [
        "table_text=[th.text.strip() for th in table_th]"
      ],
      "metadata": {
        "id": "z6gSfqqGoirF"
      },
      "execution_count": 12,
      "outputs": []
    },
    {
      "cell_type": "code",
      "source": [
        "table_text"
      ],
      "metadata": {
        "colab": {
          "base_uri": "https://localhost:8080/"
        },
        "id": "y0mWg6KcpAHK",
        "outputId": "03790d00-d664-4525-a7d7-a6da6f37cfc0"
      },
      "execution_count": 13,
      "outputs": [
        {
          "output_type": "execute_result",
          "data": {
            "text/plain": [
              "['Rank', 'Processor Name', 'Phone', 'AnTuTu 10', 'GeekBench 6*']"
            ]
          },
          "metadata": {},
          "execution_count": 13
        }
      ]
    },
    {
      "cell_type": "code",
      "source": [
        "df=pd.DataFrame(columns=table_text)"
      ],
      "metadata": {
        "id": "bFFcu3-UpDE1"
      },
      "execution_count": 14,
      "outputs": []
    },
    {
      "cell_type": "code",
      "source": [
        "df\n"
      ],
      "metadata": {
        "colab": {
          "base_uri": "https://localhost:8080/",
          "height": 89
        },
        "id": "mbE2IUirpUFg",
        "outputId": "55eeac86-ea1d-4c55-ca2d-849fa0967538"
      },
      "execution_count": 15,
      "outputs": [
        {
          "output_type": "execute_result",
          "data": {
            "text/plain": [
              "Empty DataFrame\n",
              "Columns: [Rank, Processor Name, Phone, AnTuTu 10, GeekBench 6*]\n",
              "Index: []"
            ],
            "text/html": [
              "\n",
              "  <div id=\"df-421e6779-da97-4523-b3fc-b198b1df93a9\" class=\"colab-df-container\">\n",
              "    <div>\n",
              "<style scoped>\n",
              "    .dataframe tbody tr th:only-of-type {\n",
              "        vertical-align: middle;\n",
              "    }\n",
              "\n",
              "    .dataframe tbody tr th {\n",
              "        vertical-align: top;\n",
              "    }\n",
              "\n",
              "    .dataframe thead th {\n",
              "        text-align: right;\n",
              "    }\n",
              "</style>\n",
              "<table border=\"1\" class=\"dataframe\">\n",
              "  <thead>\n",
              "    <tr style=\"text-align: right;\">\n",
              "      <th></th>\n",
              "      <th>Rank</th>\n",
              "      <th>Processor Name</th>\n",
              "      <th>Phone</th>\n",
              "      <th>AnTuTu 10</th>\n",
              "      <th>GeekBench 6*</th>\n",
              "    </tr>\n",
              "  </thead>\n",
              "  <tbody>\n",
              "  </tbody>\n",
              "</table>\n",
              "</div>\n",
              "    <div class=\"colab-df-buttons\">\n",
              "\n",
              "  <div class=\"colab-df-container\">\n",
              "    <button class=\"colab-df-convert\" onclick=\"convertToInteractive('df-421e6779-da97-4523-b3fc-b198b1df93a9')\"\n",
              "            title=\"Convert this dataframe to an interactive table.\"\n",
              "            style=\"display:none;\">\n",
              "\n",
              "  <svg xmlns=\"http://www.w3.org/2000/svg\" height=\"24px\" viewBox=\"0 -960 960 960\">\n",
              "    <path d=\"M120-120v-720h720v720H120Zm60-500h600v-160H180v160Zm220 220h160v-160H400v160Zm0 220h160v-160H400v160ZM180-400h160v-160H180v160Zm440 0h160v-160H620v160ZM180-180h160v-160H180v160Zm440 0h160v-160H620v160Z\"/>\n",
              "  </svg>\n",
              "    </button>\n",
              "\n",
              "  <style>\n",
              "    .colab-df-container {\n",
              "      display:flex;\n",
              "      gap: 12px;\n",
              "    }\n",
              "\n",
              "    .colab-df-convert {\n",
              "      background-color: #E8F0FE;\n",
              "      border: none;\n",
              "      border-radius: 50%;\n",
              "      cursor: pointer;\n",
              "      display: none;\n",
              "      fill: #1967D2;\n",
              "      height: 32px;\n",
              "      padding: 0 0 0 0;\n",
              "      width: 32px;\n",
              "    }\n",
              "\n",
              "    .colab-df-convert:hover {\n",
              "      background-color: #E2EBFA;\n",
              "      box-shadow: 0px 1px 2px rgba(60, 64, 67, 0.3), 0px 1px 3px 1px rgba(60, 64, 67, 0.15);\n",
              "      fill: #174EA6;\n",
              "    }\n",
              "\n",
              "    .colab-df-buttons div {\n",
              "      margin-bottom: 4px;\n",
              "    }\n",
              "\n",
              "    [theme=dark] .colab-df-convert {\n",
              "      background-color: #3B4455;\n",
              "      fill: #D2E3FC;\n",
              "    }\n",
              "\n",
              "    [theme=dark] .colab-df-convert:hover {\n",
              "      background-color: #434B5C;\n",
              "      box-shadow: 0px 1px 3px 1px rgba(0, 0, 0, 0.15);\n",
              "      filter: drop-shadow(0px 1px 2px rgba(0, 0, 0, 0.3));\n",
              "      fill: #FFFFFF;\n",
              "    }\n",
              "  </style>\n",
              "\n",
              "    <script>\n",
              "      const buttonEl =\n",
              "        document.querySelector('#df-421e6779-da97-4523-b3fc-b198b1df93a9 button.colab-df-convert');\n",
              "      buttonEl.style.display =\n",
              "        google.colab.kernel.accessAllowed ? 'block' : 'none';\n",
              "\n",
              "      async function convertToInteractive(key) {\n",
              "        const element = document.querySelector('#df-421e6779-da97-4523-b3fc-b198b1df93a9');\n",
              "        const dataTable =\n",
              "          await google.colab.kernel.invokeFunction('convertToInteractive',\n",
              "                                                    [key], {});\n",
              "        if (!dataTable) return;\n",
              "\n",
              "        const docLinkHtml = 'Like what you see? Visit the ' +\n",
              "          '<a target=\"_blank\" href=https://colab.research.google.com/notebooks/data_table.ipynb>data table notebook</a>'\n",
              "          + ' to learn more about interactive tables.';\n",
              "        element.innerHTML = '';\n",
              "        dataTable['output_type'] = 'display_data';\n",
              "        await google.colab.output.renderOutput(dataTable, element);\n",
              "        const docLink = document.createElement('div');\n",
              "        docLink.innerHTML = docLinkHtml;\n",
              "        element.appendChild(docLink);\n",
              "      }\n",
              "    </script>\n",
              "  </div>\n",
              "\n",
              "\n",
              "  <div id=\"id_797d63de-782f-48a3-a78e-4db869ecb5f8\">\n",
              "    <style>\n",
              "      .colab-df-generate {\n",
              "        background-color: #E8F0FE;\n",
              "        border: none;\n",
              "        border-radius: 50%;\n",
              "        cursor: pointer;\n",
              "        display: none;\n",
              "        fill: #1967D2;\n",
              "        height: 32px;\n",
              "        padding: 0 0 0 0;\n",
              "        width: 32px;\n",
              "      }\n",
              "\n",
              "      .colab-df-generate:hover {\n",
              "        background-color: #E2EBFA;\n",
              "        box-shadow: 0px 1px 2px rgba(60, 64, 67, 0.3), 0px 1px 3px 1px rgba(60, 64, 67, 0.15);\n",
              "        fill: #174EA6;\n",
              "      }\n",
              "\n",
              "      [theme=dark] .colab-df-generate {\n",
              "        background-color: #3B4455;\n",
              "        fill: #D2E3FC;\n",
              "      }\n",
              "\n",
              "      [theme=dark] .colab-df-generate:hover {\n",
              "        background-color: #434B5C;\n",
              "        box-shadow: 0px 1px 3px 1px rgba(0, 0, 0, 0.15);\n",
              "        filter: drop-shadow(0px 1px 2px rgba(0, 0, 0, 0.3));\n",
              "        fill: #FFFFFF;\n",
              "      }\n",
              "    </style>\n",
              "    <button class=\"colab-df-generate\" onclick=\"generateWithVariable('df')\"\n",
              "            title=\"Generate code using this dataframe.\"\n",
              "            style=\"display:none;\">\n",
              "\n",
              "  <svg xmlns=\"http://www.w3.org/2000/svg\" height=\"24px\"viewBox=\"0 0 24 24\"\n",
              "       width=\"24px\">\n",
              "    <path d=\"M7,19H8.4L18.45,9,17,7.55,7,17.6ZM5,21V16.75L18.45,3.32a2,2,0,0,1,2.83,0l1.4,1.43a1.91,1.91,0,0,1,.58,1.4,1.91,1.91,0,0,1-.58,1.4L9.25,21ZM18.45,9,17,7.55Zm-12,3A5.31,5.31,0,0,0,4.9,8.1,5.31,5.31,0,0,0,1,6.5,5.31,5.31,0,0,0,4.9,4.9,5.31,5.31,0,0,0,6.5,1,5.31,5.31,0,0,0,8.1,4.9,5.31,5.31,0,0,0,12,6.5,5.46,5.46,0,0,0,6.5,12Z\"/>\n",
              "  </svg>\n",
              "    </button>\n",
              "    <script>\n",
              "      (() => {\n",
              "      const buttonEl =\n",
              "        document.querySelector('#id_797d63de-782f-48a3-a78e-4db869ecb5f8 button.colab-df-generate');\n",
              "      buttonEl.style.display =\n",
              "        google.colab.kernel.accessAllowed ? 'block' : 'none';\n",
              "\n",
              "      buttonEl.onclick = () => {\n",
              "        google.colab.notebook.generateWithVariable('df');\n",
              "      }\n",
              "      })();\n",
              "    </script>\n",
              "  </div>\n",
              "\n",
              "    </div>\n",
              "  </div>\n"
            ],
            "application/vnd.google.colaboratory.intrinsic+json": {
              "type": "dataframe",
              "variable_name": "df",
              "repr_error": "Out of range float values are not JSON compliant: nan"
            }
          },
          "metadata": {},
          "execution_count": 15
        }
      ]
    },
    {
      "cell_type": "code",
      "source": [
        "column_data=table.find_all('tr')\n",
        "table_tr=table.find_all('tr')"
      ],
      "metadata": {
        "id": "YI8Jdx1htQOZ"
      },
      "execution_count": 45,
      "outputs": []
    },
    {
      "cell_type": "code",
      "source": [
        "for table_td in table_tr[1:]:\n",
        "  table_td1=table_td.find_all('td')\n",
        "  table_data1=[hr.text.strip() for hr in table_td1 ]\n",
        "  length=len(df)\n",
        "  df.loc[length]=table_data1\n",
        "  #print(table_data1)\n",
        ""
      ],
      "metadata": {
        "id": "EqPeuZjJpV2s"
      },
      "execution_count": 56,
      "outputs": []
    },
    {
      "cell_type": "code",
      "source": [],
      "metadata": {
        "colab": {
          "base_uri": "https://localhost:8080/"
        },
        "id": "zMa2P2hNxiHh",
        "outputId": "5a54c57a-b688-4224-cfc8-b704d7ec595f"
      },
      "execution_count": 53,
      "outputs": [
        {
          "output_type": "stream",
          "name": "stdout",
          "text": [
            "['100', 'Helio G91', 'Itel S24', '271623', '429/1389']\n"
          ]
        }
      ]
    },
    {
      "cell_type": "code",
      "source": [
        "df"
      ],
      "metadata": {
        "colab": {
          "base_uri": "https://localhost:8080/",
          "height": 424
        },
        "id": "pBiTzcZesarp",
        "outputId": "a878b86f-2d4f-4d00-e6c5-ad5924477558"
      },
      "execution_count": 57,
      "outputs": [
        {
          "output_type": "execute_result",
          "data": {
            "text/plain": [
              "   Rank       Processor Name                                         Phone  \\\n",
              "0     1        Apple A18 Pro  Apple iPhone 16 Pro, Apple iPhone 16 Pro Max   \n",
              "1     2  Dimensity 9300 Plus   Vivo X100s, Vivo X100s Pro, iQOO Neo 9s Pro   \n",
              "2     3       Dimensity 9300                              Vivo X100 series   \n",
              "3     4   Snapdragon 8 Gen 3          Samsung Galaxy S24 Ultra, OnePlus 12   \n",
              "4     5        Apple A17 Pro                       Apple iPhone 15 Pro Max   \n",
              "..  ...                  ...                                           ...   \n",
              "95   96       Snapdragon 835                                Google Pixel 2   \n",
              "96   97            Helio P95                                      Oppo A54   \n",
              "97   98            Kirin 970                                    Huawei P20   \n",
              "98   99       Snapdragon 710                                     Nokia 8.1   \n",
              "99  100            Helio G91                                      Itel S24   \n",
              "\n",
              "   AnTuTu 10 GeekBench 6*  \n",
              "0        TBA    3429/8790  \n",
              "1    2305267    2343/7743  \n",
              "2    2257733  2239 / 7538  \n",
              "3    1771106  2563 / 7256  \n",
              "4    1549189  3269 / 7666  \n",
              "..       ...          ...  \n",
              "95    368607     415/1508  \n",
              "96    299534     456/1541  \n",
              "97     38330     383/1373  \n",
              "98    298526     445/1352  \n",
              "99    271623     429/1389  \n",
              "\n",
              "[100 rows x 5 columns]"
            ],
            "text/html": [
              "\n",
              "  <div id=\"df-9ff0eab4-085c-4dd6-93b0-4bc6719b0274\" class=\"colab-df-container\">\n",
              "    <div>\n",
              "<style scoped>\n",
              "    .dataframe tbody tr th:only-of-type {\n",
              "        vertical-align: middle;\n",
              "    }\n",
              "\n",
              "    .dataframe tbody tr th {\n",
              "        vertical-align: top;\n",
              "    }\n",
              "\n",
              "    .dataframe thead th {\n",
              "        text-align: right;\n",
              "    }\n",
              "</style>\n",
              "<table border=\"1\" class=\"dataframe\">\n",
              "  <thead>\n",
              "    <tr style=\"text-align: right;\">\n",
              "      <th></th>\n",
              "      <th>Rank</th>\n",
              "      <th>Processor Name</th>\n",
              "      <th>Phone</th>\n",
              "      <th>AnTuTu 10</th>\n",
              "      <th>GeekBench 6*</th>\n",
              "    </tr>\n",
              "  </thead>\n",
              "  <tbody>\n",
              "    <tr>\n",
              "      <th>0</th>\n",
              "      <td>1</td>\n",
              "      <td>Apple A18 Pro</td>\n",
              "      <td>Apple iPhone 16 Pro, Apple iPhone 16 Pro Max</td>\n",
              "      <td>TBA</td>\n",
              "      <td>3429/8790</td>\n",
              "    </tr>\n",
              "    <tr>\n",
              "      <th>1</th>\n",
              "      <td>2</td>\n",
              "      <td>Dimensity 9300 Plus</td>\n",
              "      <td>Vivo X100s, Vivo X100s Pro, iQOO Neo 9s Pro</td>\n",
              "      <td>2305267</td>\n",
              "      <td>2343/7743</td>\n",
              "    </tr>\n",
              "    <tr>\n",
              "      <th>2</th>\n",
              "      <td>3</td>\n",
              "      <td>Dimensity 9300</td>\n",
              "      <td>Vivo X100 series</td>\n",
              "      <td>2257733</td>\n",
              "      <td>2239 / 7538</td>\n",
              "    </tr>\n",
              "    <tr>\n",
              "      <th>3</th>\n",
              "      <td>4</td>\n",
              "      <td>Snapdragon 8 Gen 3</td>\n",
              "      <td>Samsung Galaxy S24 Ultra, OnePlus 12</td>\n",
              "      <td>1771106</td>\n",
              "      <td>2563 / 7256</td>\n",
              "    </tr>\n",
              "    <tr>\n",
              "      <th>4</th>\n",
              "      <td>5</td>\n",
              "      <td>Apple A17 Pro</td>\n",
              "      <td>Apple iPhone 15 Pro Max</td>\n",
              "      <td>1549189</td>\n",
              "      <td>3269 / 7666</td>\n",
              "    </tr>\n",
              "    <tr>\n",
              "      <th>...</th>\n",
              "      <td>...</td>\n",
              "      <td>...</td>\n",
              "      <td>...</td>\n",
              "      <td>...</td>\n",
              "      <td>...</td>\n",
              "    </tr>\n",
              "    <tr>\n",
              "      <th>95</th>\n",
              "      <td>96</td>\n",
              "      <td>Snapdragon 835</td>\n",
              "      <td>Google Pixel 2</td>\n",
              "      <td>368607</td>\n",
              "      <td>415/1508</td>\n",
              "    </tr>\n",
              "    <tr>\n",
              "      <th>96</th>\n",
              "      <td>97</td>\n",
              "      <td>Helio P95</td>\n",
              "      <td>Oppo A54</td>\n",
              "      <td>299534</td>\n",
              "      <td>456/1541</td>\n",
              "    </tr>\n",
              "    <tr>\n",
              "      <th>97</th>\n",
              "      <td>98</td>\n",
              "      <td>Kirin 970</td>\n",
              "      <td>Huawei P20</td>\n",
              "      <td>38330</td>\n",
              "      <td>383/1373</td>\n",
              "    </tr>\n",
              "    <tr>\n",
              "      <th>98</th>\n",
              "      <td>99</td>\n",
              "      <td>Snapdragon 710</td>\n",
              "      <td>Nokia 8.1</td>\n",
              "      <td>298526</td>\n",
              "      <td>445/1352</td>\n",
              "    </tr>\n",
              "    <tr>\n",
              "      <th>99</th>\n",
              "      <td>100</td>\n",
              "      <td>Helio G91</td>\n",
              "      <td>Itel S24</td>\n",
              "      <td>271623</td>\n",
              "      <td>429/1389</td>\n",
              "    </tr>\n",
              "  </tbody>\n",
              "</table>\n",
              "<p>100 rows × 5 columns</p>\n",
              "</div>\n",
              "    <div class=\"colab-df-buttons\">\n",
              "\n",
              "  <div class=\"colab-df-container\">\n",
              "    <button class=\"colab-df-convert\" onclick=\"convertToInteractive('df-9ff0eab4-085c-4dd6-93b0-4bc6719b0274')\"\n",
              "            title=\"Convert this dataframe to an interactive table.\"\n",
              "            style=\"display:none;\">\n",
              "\n",
              "  <svg xmlns=\"http://www.w3.org/2000/svg\" height=\"24px\" viewBox=\"0 -960 960 960\">\n",
              "    <path d=\"M120-120v-720h720v720H120Zm60-500h600v-160H180v160Zm220 220h160v-160H400v160Zm0 220h160v-160H400v160ZM180-400h160v-160H180v160Zm440 0h160v-160H620v160ZM180-180h160v-160H180v160Zm440 0h160v-160H620v160Z\"/>\n",
              "  </svg>\n",
              "    </button>\n",
              "\n",
              "  <style>\n",
              "    .colab-df-container {\n",
              "      display:flex;\n",
              "      gap: 12px;\n",
              "    }\n",
              "\n",
              "    .colab-df-convert {\n",
              "      background-color: #E8F0FE;\n",
              "      border: none;\n",
              "      border-radius: 50%;\n",
              "      cursor: pointer;\n",
              "      display: none;\n",
              "      fill: #1967D2;\n",
              "      height: 32px;\n",
              "      padding: 0 0 0 0;\n",
              "      width: 32px;\n",
              "    }\n",
              "\n",
              "    .colab-df-convert:hover {\n",
              "      background-color: #E2EBFA;\n",
              "      box-shadow: 0px 1px 2px rgba(60, 64, 67, 0.3), 0px 1px 3px 1px rgba(60, 64, 67, 0.15);\n",
              "      fill: #174EA6;\n",
              "    }\n",
              "\n",
              "    .colab-df-buttons div {\n",
              "      margin-bottom: 4px;\n",
              "    }\n",
              "\n",
              "    [theme=dark] .colab-df-convert {\n",
              "      background-color: #3B4455;\n",
              "      fill: #D2E3FC;\n",
              "    }\n",
              "\n",
              "    [theme=dark] .colab-df-convert:hover {\n",
              "      background-color: #434B5C;\n",
              "      box-shadow: 0px 1px 3px 1px rgba(0, 0, 0, 0.15);\n",
              "      filter: drop-shadow(0px 1px 2px rgba(0, 0, 0, 0.3));\n",
              "      fill: #FFFFFF;\n",
              "    }\n",
              "  </style>\n",
              "\n",
              "    <script>\n",
              "      const buttonEl =\n",
              "        document.querySelector('#df-9ff0eab4-085c-4dd6-93b0-4bc6719b0274 button.colab-df-convert');\n",
              "      buttonEl.style.display =\n",
              "        google.colab.kernel.accessAllowed ? 'block' : 'none';\n",
              "\n",
              "      async function convertToInteractive(key) {\n",
              "        const element = document.querySelector('#df-9ff0eab4-085c-4dd6-93b0-4bc6719b0274');\n",
              "        const dataTable =\n",
              "          await google.colab.kernel.invokeFunction('convertToInteractive',\n",
              "                                                    [key], {});\n",
              "        if (!dataTable) return;\n",
              "\n",
              "        const docLinkHtml = 'Like what you see? Visit the ' +\n",
              "          '<a target=\"_blank\" href=https://colab.research.google.com/notebooks/data_table.ipynb>data table notebook</a>'\n",
              "          + ' to learn more about interactive tables.';\n",
              "        element.innerHTML = '';\n",
              "        dataTable['output_type'] = 'display_data';\n",
              "        await google.colab.output.renderOutput(dataTable, element);\n",
              "        const docLink = document.createElement('div');\n",
              "        docLink.innerHTML = docLinkHtml;\n",
              "        element.appendChild(docLink);\n",
              "      }\n",
              "    </script>\n",
              "  </div>\n",
              "\n",
              "\n",
              "<div id=\"df-f53e3138-e9b4-4ba2-87b6-ce6dacb44fc5\">\n",
              "  <button class=\"colab-df-quickchart\" onclick=\"quickchart('df-f53e3138-e9b4-4ba2-87b6-ce6dacb44fc5')\"\n",
              "            title=\"Suggest charts\"\n",
              "            style=\"display:none;\">\n",
              "\n",
              "<svg xmlns=\"http://www.w3.org/2000/svg\" height=\"24px\"viewBox=\"0 0 24 24\"\n",
              "     width=\"24px\">\n",
              "    <g>\n",
              "        <path d=\"M19 3H5c-1.1 0-2 .9-2 2v14c0 1.1.9 2 2 2h14c1.1 0 2-.9 2-2V5c0-1.1-.9-2-2-2zM9 17H7v-7h2v7zm4 0h-2V7h2v10zm4 0h-2v-4h2v4z\"/>\n",
              "    </g>\n",
              "</svg>\n",
              "  </button>\n",
              "\n",
              "<style>\n",
              "  .colab-df-quickchart {\n",
              "      --bg-color: #E8F0FE;\n",
              "      --fill-color: #1967D2;\n",
              "      --hover-bg-color: #E2EBFA;\n",
              "      --hover-fill-color: #174EA6;\n",
              "      --disabled-fill-color: #AAA;\n",
              "      --disabled-bg-color: #DDD;\n",
              "  }\n",
              "\n",
              "  [theme=dark] .colab-df-quickchart {\n",
              "      --bg-color: #3B4455;\n",
              "      --fill-color: #D2E3FC;\n",
              "      --hover-bg-color: #434B5C;\n",
              "      --hover-fill-color: #FFFFFF;\n",
              "      --disabled-bg-color: #3B4455;\n",
              "      --disabled-fill-color: #666;\n",
              "  }\n",
              "\n",
              "  .colab-df-quickchart {\n",
              "    background-color: var(--bg-color);\n",
              "    border: none;\n",
              "    border-radius: 50%;\n",
              "    cursor: pointer;\n",
              "    display: none;\n",
              "    fill: var(--fill-color);\n",
              "    height: 32px;\n",
              "    padding: 0;\n",
              "    width: 32px;\n",
              "  }\n",
              "\n",
              "  .colab-df-quickchart:hover {\n",
              "    background-color: var(--hover-bg-color);\n",
              "    box-shadow: 0 1px 2px rgba(60, 64, 67, 0.3), 0 1px 3px 1px rgba(60, 64, 67, 0.15);\n",
              "    fill: var(--button-hover-fill-color);\n",
              "  }\n",
              "\n",
              "  .colab-df-quickchart-complete:disabled,\n",
              "  .colab-df-quickchart-complete:disabled:hover {\n",
              "    background-color: var(--disabled-bg-color);\n",
              "    fill: var(--disabled-fill-color);\n",
              "    box-shadow: none;\n",
              "  }\n",
              "\n",
              "  .colab-df-spinner {\n",
              "    border: 2px solid var(--fill-color);\n",
              "    border-color: transparent;\n",
              "    border-bottom-color: var(--fill-color);\n",
              "    animation:\n",
              "      spin 1s steps(1) infinite;\n",
              "  }\n",
              "\n",
              "  @keyframes spin {\n",
              "    0% {\n",
              "      border-color: transparent;\n",
              "      border-bottom-color: var(--fill-color);\n",
              "      border-left-color: var(--fill-color);\n",
              "    }\n",
              "    20% {\n",
              "      border-color: transparent;\n",
              "      border-left-color: var(--fill-color);\n",
              "      border-top-color: var(--fill-color);\n",
              "    }\n",
              "    30% {\n",
              "      border-color: transparent;\n",
              "      border-left-color: var(--fill-color);\n",
              "      border-top-color: var(--fill-color);\n",
              "      border-right-color: var(--fill-color);\n",
              "    }\n",
              "    40% {\n",
              "      border-color: transparent;\n",
              "      border-right-color: var(--fill-color);\n",
              "      border-top-color: var(--fill-color);\n",
              "    }\n",
              "    60% {\n",
              "      border-color: transparent;\n",
              "      border-right-color: var(--fill-color);\n",
              "    }\n",
              "    80% {\n",
              "      border-color: transparent;\n",
              "      border-right-color: var(--fill-color);\n",
              "      border-bottom-color: var(--fill-color);\n",
              "    }\n",
              "    90% {\n",
              "      border-color: transparent;\n",
              "      border-bottom-color: var(--fill-color);\n",
              "    }\n",
              "  }\n",
              "</style>\n",
              "\n",
              "  <script>\n",
              "    async function quickchart(key) {\n",
              "      const quickchartButtonEl =\n",
              "        document.querySelector('#' + key + ' button');\n",
              "      quickchartButtonEl.disabled = true;  // To prevent multiple clicks.\n",
              "      quickchartButtonEl.classList.add('colab-df-spinner');\n",
              "      try {\n",
              "        const charts = await google.colab.kernel.invokeFunction(\n",
              "            'suggestCharts', [key], {});\n",
              "      } catch (error) {\n",
              "        console.error('Error during call to suggestCharts:', error);\n",
              "      }\n",
              "      quickchartButtonEl.classList.remove('colab-df-spinner');\n",
              "      quickchartButtonEl.classList.add('colab-df-quickchart-complete');\n",
              "    }\n",
              "    (() => {\n",
              "      let quickchartButtonEl =\n",
              "        document.querySelector('#df-f53e3138-e9b4-4ba2-87b6-ce6dacb44fc5 button');\n",
              "      quickchartButtonEl.style.display =\n",
              "        google.colab.kernel.accessAllowed ? 'block' : 'none';\n",
              "    })();\n",
              "  </script>\n",
              "</div>\n",
              "\n",
              "  <div id=\"id_997ac437-a15d-443a-8364-1e8767ac7e8e\">\n",
              "    <style>\n",
              "      .colab-df-generate {\n",
              "        background-color: #E8F0FE;\n",
              "        border: none;\n",
              "        border-radius: 50%;\n",
              "        cursor: pointer;\n",
              "        display: none;\n",
              "        fill: #1967D2;\n",
              "        height: 32px;\n",
              "        padding: 0 0 0 0;\n",
              "        width: 32px;\n",
              "      }\n",
              "\n",
              "      .colab-df-generate:hover {\n",
              "        background-color: #E2EBFA;\n",
              "        box-shadow: 0px 1px 2px rgba(60, 64, 67, 0.3), 0px 1px 3px 1px rgba(60, 64, 67, 0.15);\n",
              "        fill: #174EA6;\n",
              "      }\n",
              "\n",
              "      [theme=dark] .colab-df-generate {\n",
              "        background-color: #3B4455;\n",
              "        fill: #D2E3FC;\n",
              "      }\n",
              "\n",
              "      [theme=dark] .colab-df-generate:hover {\n",
              "        background-color: #434B5C;\n",
              "        box-shadow: 0px 1px 3px 1px rgba(0, 0, 0, 0.15);\n",
              "        filter: drop-shadow(0px 1px 2px rgba(0, 0, 0, 0.3));\n",
              "        fill: #FFFFFF;\n",
              "      }\n",
              "    </style>\n",
              "    <button class=\"colab-df-generate\" onclick=\"generateWithVariable('df')\"\n",
              "            title=\"Generate code using this dataframe.\"\n",
              "            style=\"display:none;\">\n",
              "\n",
              "  <svg xmlns=\"http://www.w3.org/2000/svg\" height=\"24px\"viewBox=\"0 0 24 24\"\n",
              "       width=\"24px\">\n",
              "    <path d=\"M7,19H8.4L18.45,9,17,7.55,7,17.6ZM5,21V16.75L18.45,3.32a2,2,0,0,1,2.83,0l1.4,1.43a1.91,1.91,0,0,1,.58,1.4,1.91,1.91,0,0,1-.58,1.4L9.25,21ZM18.45,9,17,7.55Zm-12,3A5.31,5.31,0,0,0,4.9,8.1,5.31,5.31,0,0,0,1,6.5,5.31,5.31,0,0,0,4.9,4.9,5.31,5.31,0,0,0,6.5,1,5.31,5.31,0,0,0,8.1,4.9,5.31,5.31,0,0,0,12,6.5,5.46,5.46,0,0,0,6.5,12Z\"/>\n",
              "  </svg>\n",
              "    </button>\n",
              "    <script>\n",
              "      (() => {\n",
              "      const buttonEl =\n",
              "        document.querySelector('#id_997ac437-a15d-443a-8364-1e8767ac7e8e button.colab-df-generate');\n",
              "      buttonEl.style.display =\n",
              "        google.colab.kernel.accessAllowed ? 'block' : 'none';\n",
              "\n",
              "      buttonEl.onclick = () => {\n",
              "        google.colab.notebook.generateWithVariable('df');\n",
              "      }\n",
              "      })();\n",
              "    </script>\n",
              "  </div>\n",
              "\n",
              "    </div>\n",
              "  </div>\n"
            ],
            "application/vnd.google.colaboratory.intrinsic+json": {
              "type": "dataframe",
              "variable_name": "df",
              "summary": "{\n  \"name\": \"df\",\n  \"rows\": 100,\n  \"fields\": [\n    {\n      \"column\": \"Rank\",\n      \"properties\": {\n        \"dtype\": \"string\",\n        \"num_unique_values\": 100,\n        \"samples\": [\n          \"84\",\n          \"54\",\n          \"71\"\n        ],\n        \"semantic_type\": \"\",\n        \"description\": \"\"\n      }\n    },\n    {\n      \"column\": \"Processor Name\",\n      \"properties\": {\n        \"dtype\": \"string\",\n        \"num_unique_values\": 99,\n        \"samples\": [\n          \"Snapdragon 845\",\n          \"Snapdragon 7 Gen 1\",\n          \"Helio P95\"\n        ],\n        \"semantic_type\": \"\",\n        \"description\": \"\"\n      }\n    },\n    {\n      \"column\": \"Phone\",\n      \"properties\": {\n        \"dtype\": \"string\",\n        \"num_unique_values\": 98,\n        \"samples\": [\n          \"Poco F1\",\n          \"Xiaomi Mi 11 Lite 5G\",\n          \"Oppo A54\"\n        ],\n        \"semantic_type\": \"\",\n        \"description\": \"\"\n      }\n    },\n    {\n      \"column\": \"AnTuTu 10\",\n      \"properties\": {\n        \"dtype\": \"string\",\n        \"num_unique_values\": 95,\n        \"samples\": [\n          \"430012\",\n          \"965,874\",\n          \"395516\"\n        ],\n        \"semantic_type\": \"\",\n        \"description\": \"\"\n      }\n    },\n    {\n      \"column\": \"GeekBench 6*\",\n      \"properties\": {\n        \"dtype\": \"string\",\n        \"num_unique_values\": 96,\n        \"samples\": [\n          \"559/1840\",\n          \"693/1802\",\n          \"747/1843\"\n        ],\n        \"semantic_type\": \"\",\n        \"description\": \"\"\n      }\n    }\n  ]\n}"
            }
          },
          "metadata": {},
          "execution_count": 57
        }
      ]
    },
    {
      "cell_type": "markdown",
      "source": [],
      "metadata": {
        "id": "e0bMcr7Rpfyd"
      }
    }
  ]
}