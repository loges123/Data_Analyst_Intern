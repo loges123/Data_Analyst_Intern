{
  "nbformat": 4,
  "nbformat_minor": 0,
  "metadata": {
    "colab": {
      "provenance": []
    },
    "kernelspec": {
      "name": "python3",
      "display_name": "Python 3"
    },
    "language_info": {
      "name": "python"
    }
  },
  "cells": [
    {
      "cell_type": "code",
      "execution_count": 22,
      "metadata": {
        "id": "IrZEJG4ucga-"
      },
      "outputs": [],
      "source": [
        "import requests\n"
      ]
    },
    {
      "cell_type": "code",
      "source": [
        "import bs4"
      ],
      "metadata": {
        "id": "V1RVgH5ncnGg"
      },
      "execution_count": 21,
      "outputs": []
    },
    {
      "cell_type": "code",
      "source": [
        "from bs4 import BeautifulSoup"
      ],
      "metadata": {
        "id": "SRVKzx0RcxJg"
      },
      "execution_count": 20,
      "outputs": []
    },
    {
      "cell_type": "code",
      "source": [
        "url='https://aliceblueonline.com/top-companies-in-india-by-net-profit/'\n"
      ],
      "metadata": {
        "id": "XRYJTUPyc9Co"
      },
      "execution_count": 1,
      "outputs": []
    },
    {
      "cell_type": "code",
      "source": [
        "ws= requests.get(url)\n"
      ],
      "metadata": {
        "id": "8Lp4Spj9f_KQ"
      },
      "execution_count": 19,
      "outputs": []
    },
    {
      "cell_type": "code",
      "source": [
        "soup=BeautifulSoup(ws.text, 'html')"
      ],
      "metadata": {
        "id": "B8Mzj_KBdnbV"
      },
      "execution_count": 24,
      "outputs": []
    },
    {
      "cell_type": "code",
      "source": [
        "\n",
        "headers = soup.find_all(['h1','h2'])\n",
        "headers\n",
        "\n"
      ],
      "metadata": {
        "id": "pKoEHIjUdXTl",
        "colab": {
          "base_uri": "https://localhost:8080/"
        },
        "outputId": "32e44ef5-bd58-43fd-9c85-0ccb81fe2a41"
      },
      "execution_count": 28,
      "outputs": [
        {
          "output_type": "execute_result",
          "data": {
            "text/plain": [
              "[<h1 class=\"elementor-heading-title elementor-size-default\">Top Companies In India By Net Profit</h1>,\n",
              " <h2 class=\"wp-block-heading\" id=\"h-\"></h2>,\n",
              " <h2 class=\"wp-block-heading\" id=\"h-top-stocks-in-india-by-net-profit\">Top Stocks in India by Net Profit</h2>,\n",
              " <h2 class=\"wp-block-heading\" id=\"h-top-companies-in-india-by-net-profit-faq\">Top Companies In India By Net Profit – FAQ</h2>]"
            ]
          },
          "metadata": {},
          "execution_count": 28
        }
      ]
    },
    {
      "cell_type": "code",
      "source": [
        "paragraph=soup.find_all('p')\n",
        "paragraph\n"
      ],
      "metadata": {
        "colab": {
          "base_uri": "https://localhost:8080/"
        },
        "id": "YE708j9zqwMi",
        "outputId": "a26d1f59-5ad7-4226-b96e-15ff77536727"
      },
      "execution_count": 29,
      "outputs": [
        {
          "output_type": "execute_result",
          "data": {
            "text/plain": [
              "[<p id=\"breadcrumbs\"><span><span><a href=\"https://aliceblueonline.com/\">Home</a></span> -- <span><a href=\"https://aliceblueonline.com/antiq/f/\">Finance</a></span> -- <span aria-current=\"page\" class=\"breadcrumb_last\"><strong>Top Companies In India By Net Profit</strong></span></span></p>,\n",
              " <p class=\"elementor-icon-box-description\">\n",
              " 5 min read </p>,\n",
              " <p>The table below shows the Top Stocks in India by Net Profit with Highest Market Cap.</p>,\n",
              " <p>The market capitalization of Reliance Industries Ltd is ₹2,00,450.38 crore. Its one-year return percentage stands at 37.23%. It is currently 0.15% away from its 52-week high. The net income reported is ₹66,702 crore.</p>,\n",
              " <p>The Indian company operates in hydrocarbon exploration, petroleum refining, petrochemicals, renewables, retail, and digital services. Its segments encompass Oil to Chemicals (O2C), Oil and Gas, Retail, and Digital Services. O2C involves refining, petrochemicals, fuel retailing, and transportation fuels, while Oil and Gas focuses on crude oil and natural gas exploration. Retail covers consumer retail and related services, and Digital Services offers various digital services.</p>,\n",
              " <p>The market capitalization of the State Bank of India is ₹6,63,455.65 crore. Its one-year return percentage stands at 37.45%. It is currently 0.69% away from its 52-week high. The net income reported is ₹55,648.17 crore.</p>,\n",
              " <p>The company, Headquartered in India, offers a diverse array of banking and financial services to individuals, businesses, and institutions worldwide. Its operations span various segments, including Treasury, Corporate/Wholesale Banking, Retail Banking, Insurance, and other banking services, catering to a wide range of clientele.</p>,\n",
              " <p>The market capitalization of HDFC Bank Ltd is ₹10,51,261.91 crore. Its one-year return percentage stands at -17.31%. It is currently 26.98% away from its 52-week high. The net income reported is ₹45,997.11 crore.</p>,\n",
              " <p>The company is a comprehensive financial services conglomerate offering a wide array of banking, insurance, and mutual fund services through its subsidiaries. It serves diverse banking needs, encompassing commercial, investment, and branch banking, with segments such as Treasury, Retail Banking (including Digital Banking), and Wholesale Banking, catering to various clientele. </p>,\n",
              " <p>Subsidiaries like HDFC Securities Ltd., HDB Financial Services Ltd., HDFC Asset Management Co. Ltd, and HDFC ERGO General Insurance Co. Ltd further extend its reach and offerings.</p>,\n",
              " <p>The market capitalization of Tata Consultancy Services Ltd is ₹14,83,452.06 crore. Its one-year return percentage stands at 17.14%. It is currently 2.06% away from its 52-week high. The net income reported is ₹42,147.00 crore.</p>,\n",
              " <p>Headquartered in India, specializes in offering IT services, consulting, and business solutions across various sectors, including Banking, Capital Markets, Consumer Goods, Communications, Education, Energy, Healthcare, High Tech, Insurance, Life Sciences, Manufacturing, Public Services, Retail, and Travel. TCS provides various products such as TCS ADD, TCS BaNCS, TCS BFSI Platforms, TCS CHROMA, and TCS Customer Intelligence &amp; Insights.</p>,\n",
              " <p>Additionally, it offers services like Cloud, Cognitive Business Operations, Consulting, Cybersecurity, Data and Analytics, Enterprise Solutions, IoT and Digital Engineering, Sustainability Services, TCS Interactive, and collaborates with AWS, Google Cloud, and Microsoft Cloud.</p>,\n",
              " <p>The market capitalization of Life Insurance Corporation Of India is ₹6,77,091.00 crore. Its one-year return percentage stands at 79.00%. It is currently 9.76% away from its 52-week high. The net income reported is ₹35,996.64 crore.</p>,\n",
              " <p>An India-based insurance firm operates in life insurance domestically and internationally, offering diverse individual and group insurance solutions spanning participating, non-participating, and unit-linked lines of businesses. </p>,\n",
              " <p>With around 44 products, including protection, pension, savings, investment, annuity, health, and variable plans, its portfolio encompasses Saral Jeevan Bima, Saral Pension, Arogya Rakshak, Dhan Rekha, Bima Jyoti, and more.</p>,\n",
              " <p>The market capitalization of Oil and Natural Gas Corporation Ltd is ₹3,38,220.81 crore. Its one-year return percentage stands at 81.10%. It is currently 2.53% away from its 52-week high. The net income reported is ₹35,440.45 crore.</p>,\n",
              " <p>An Indian company operates in crude oil and natural gas sectors. Its divisions encompass Exploration and Production and Refining and Marketing. Engaged in exploration, development, and production within India and internationally, it also offers downstream services, petrochemicals, power generation, LNG supply, and more.</p>,\n",
              " <p>Geographically, it operates in India and beyond, with subsidiaries like Mangalore Refinery and Petrochemicals Limited, Hindustan Petroleum Corporation Limited, ONGC Videsh Limited, Petronet MHB Limited, and HPCL Biofuels Limited, providing a range of products and services including crude oil, natural gas, and petrochemicals.</p>,\n",
              " <p>The market capitalization of ICICI Bank Ltd is ₹7,17,713.11 crore. Its one-year return percentage stands at 18.19%. It is currently 3.59% away from its 52-week high. The net income reported is ₹34,036.64 crore.</p>,\n",
              " <p>The India-based banking entity offers a spectrum of financial services encompassing commercial banking and treasury operations across six segments. </p>,\n",
              " <p>Its retail banking sector generates revenue from credit and debit cards, and third-party product distribution, while the wholesale banking sector extends advances to trusts, firms, and companies. The treasury segment manages the bank’s investment and derivative portfolio. </p>,\n",
              " <p>The market capitalization of Coal India Ltd is ₹2,87,398.84 crore. Its one-year return percentage stands at 120.24%. It is currently 0.48% away from its 52-week high. The net income reported is ₹28,165.19 crore.</p>,\n",
              " <p>The company an India-based coal mining entity, oversees operations across 83 mining regions spanning eight Indian states. With 322 mines, including 138 underground, 171 opencast, and 13 mixed mines, it also administers auxiliary facilities such as workshops and hospitals. Additionally, it manages 21 training institutes, 76 Vocational Training Centers, and the Indian Institute of Coal Management (IICM), offering diverse programs.</p>,\n",
              " <p>The corporation further extends its reach through 11 wholly owned subsidiaries, encompassing Eastern Coalfields Limited, Bharat Coking Coal Limited, Central Coalfields Limited, Western Coalfields Limited, South Eastern Coalfields Limited, Northern Coalfields Limited, Mahanadi Coalfields Limited, Central Mine Planning &amp; Design Institute Limited, CIL Navi Karniya Urja Limited, CIL Solar PV Limited, and Coal India Africana Limitada.</p>,\n",
              " <p>The market capitalization of Infosys Ltd is ₹6,89,622.50 crore. Its one-year return percentage stands at 4.58%. It is currently 4.01% away from its 52-week high. The net income reported is ₹24,095.00 crore.</p>,\n",
              " <p><br/>The Indian-based firm offers consulting, technology, outsourcing, and digital services across various sectors, including Financial Services, Retail, Communication, Energy, Utilities, Resources, Services, Manufacturing, Hi-Tech, Life Sciences, and others. </p>,\n",
              " <p>Its core services encompass application management, proprietary development, validation, product engineering, infrastructure management, and enterprise application support. Additionally, it provides products and platforms such as Finacle, Edge Suite, Panaya, Infosys Equinox, Helix, Applied AI, Cortex, Stater, and McCamish, and operates Danske Bank’s IT center in India.</p>,\n",
              " <p>The market capitalization of ITC Ltd is ₹5,13,577.98 crore. Its one-year return percentage stands at 6.50%. It is currently 21.42% away from its 52-week high. The net income reported is ₹19,191.66 crore.</p>,\n",
              " <p>The company, headquartered in India, operates across various segments: Fast Moving Consumer Goods (FMCG), Hotels, Paperboards, Paper and Packaging, and Agri-Business. Its FMCG division encompasses cigarettes, personal care items, safety matches, and packaged foods. </p>,\n",
              " <p>The Paper and Packaging segment includes specialty paper and flexible packaging. The Agri-Business segment includes wheat, rice, spices, and coffee. The hotel division boasts six distinct brands, from luxury to leisure and heritage.</p>,\n",
              " <p></p>,\n",
              " <p>Top Stocks in India by Net Profit #1: Reliance Industries Ltd</p>,\n",
              " <p>Top Stocks in India by Net Profit #2: State Bank of India</p>,\n",
              " <p>Top Stocks in India by Net Profit #3: HDFC Bank Ltd</p>,\n",
              " <p>Top Stocks in India by Net Profit #4: Tata Consultancy Services Ltd</p>,\n",
              " <p>Top Stocks in India by Net Profit #5: Life Insurance Corporation Of India</p>,\n",
              " <p>These stocks are listed based on the highest net profit.</p>,\n",
              " <p>Reliance Industries Ltd emerges as India’s most profitable company with a staggering net sales figure of 66,702.00 crore, showcasing its dominance and success in the market.</p>,\n",
              " <p>To calculate net profit, subtract total expenses from total revenue. The formula is: Net Profit = Total Revenue – Total Expenses. This figure represents the company’s profitability after accounting for all costs.</p>,\n",
              " <p>Net profit is the earnings left after deducting all expenses from total revenue, reflecting the company’s overall profitability. Gross profit is revenue minus the cost of goods sold, excluding other expenses.</p>,\n",
              " <p></p>,\n",
              " <p>We hope you’re clear on the topic, but there’s more to explore in stocks, commodities, mutual funds, and related areas. Here are important topics to learn about.</p>,\n",
              " <p><strong>Disclaimer: The above article is written for educational purposes, and the companies’ data mentioned in the article may change with respect to time The securities quoted are exemplary and are not recommendatory.</strong></p>,\n",
              " <p>The table below shows the best ship building stocks in India based on the highest market capitalization. Name Market Cap (Cr) Close Price Mazagon Dock</p>,\n",
              " <p>The table below shows the best three wheeler stocks in India based on the highest market capitalization. Name Market Cap (Cr) Close Price Mahindra and</p>,\n",
              " <p>AU Small Finance Bank Ltd’s fundamental analysis highlights key financial metrics including market capitalization of ₹46,974.68 crore, PE ratio of 30.61, and return on equity</p>,\n",
              " <p class=\"elementor-heading-title elementor-size-default\">© 2023, Alice Blue Financial Services (P) Ltd, All rights reserved.</p>,\n",
              " <p>Connect with us</p>,\n",
              " <p> </p>,\n",
              " <p> </p>,\n",
              " <p> </p>,\n",
              " <p> </p>,\n",
              " <p class=\"elementor-icon-box-title\">\n",
              " <span>\n",
              " Attention Investors! </span>\n",
              " </p>,\n",
              " <p>Stock Brokers can accept securities as margin from clients only by way of pledge in the depository system w.e.f. September 1, 2020.  Update your mobile number &amp; email Id with your stock broker/depository participant and receive OTP directly from the depository on your email id and/or mobile number to create a pledge.   Pay 20% upfront margin of the transaction early to trade in the cash market segment.   Investors may please refer to the Exchange’s Frequently Asked Questions (FAQs) issued vide circular reference NSE/INSP/45191 dated July 31, 2020, and NSE/INSP/45534 dated August 31, 2020, and other guidelines issued from time to time in this regard.   Check your Securities /MF/ Bonds in the consolidated account statement issued by NSDL/CDSL every month.</p>,\n",
              " <p>Corporate Office: No. 153/2, 3rd Floor, M.R.B.Arcade, Bagalur Main Road, Dwaraka Nagar, Yelahanka, Bengaluru – 560 063, Karnataka.<br/>Registered Office: Old No.56/2 ,New No.58, LIC Nagar, Vinayagar Kovil Street, Erode -8,Tamil Nadu– 638002.<br/>Alice Blue Financial Services (P) Ltd : NSE EQ | NSE FO | NSE CDS-90112 SEBI REG : INZ000156038<br/>Alice Blue Financial Services (P) Ltd : BSE EQ | BSE FO | BSE CD-6670 SEBI REG : INZ000156038<br/>Alice Blue Financial Services (P) Ltd : CDSL DP ID 12085300 DP SEBI REG : IN-DP-364-2018<br/>Alice Blue Financial Services (P) Ltd : MCX-56710 SEBI REG : INZ000156038<br/>We hereby declare that we are doing PRO trading</p>,\n",
              " <p>Procedure to file a complaint on SEBI SCORES : Register on <a href=\"https://scores.gov.in/scores/Welcome.html\">SCORES portal</a> and <a href=\"https://scores.sebi.gov.in/\" rel=\"noopener\" target=\"_blank\">SEBI SCORES 2.0</a>.  Mandatory details for filing complaints on SCORES: Name, PAN, Address, Mobile Number, E-mail ID. Benefits: Effective Communication, Speedy redressal of the grievances</p>,\n",
              " <p>Click on the provided link to learn about the process for submitting a complaint on the <a href=\"https://smartodr.in/login/\" rel=\"noopener\" target=\"_blank\">ODR platform</a> for resolving investor grievances.</p>,\n",
              " <p>Investment in securities markets are subject to market risks, read all the related documents carefully before investing. Brokerage will not exceed SEBI prescribed limit.</p>,\n",
              " <p>For queries regarding account opening or activation, email to <a href=\"/cdn-cgi/l/email-protection#325351515d475c465351465b4453465b5d5c72535e5b5157505e47575b5c565b531c515d5f\"><span class=\"__cf_email__\" data-cfemail=\"620301010d170c160301160b1403160b0d0c22030e0b0107000e17070b0c060b034c010d0f\">[email protected]</span></a> and for fund updates, email to <a href=\"/cdn-cgi/l/email-protection#a0c6d5cec4d3e0c1ccc9c3c5c2ccd5c5c9cec4c9c18ec3cfcd\"><span class=\"__cf_email__\" data-cfemail=\"593f2c373d2a193835303a3c3b352c3c30373d3038773a3634\">[email protected]</span></a></p>,\n",
              " <p>Disclaimer : Prevent unauthorized transactions in your account. Update your mobile numbers/email IDs with your stock brokers. Receive information of your transactions directly from Exchange on your mobile/email at the end of the day. Issued in the interest of investors. All clients have to update their email id and mobile number with Member : Investor Grievance <a class=\"__cf_email__\" data-cfemail=\"c1a6b3a8a4b7a0afa2a4b281a0ada8a2a4a3adb4a4a8afa5a8a0efa2aeac\" href=\"/cdn-cgi/l/email-protection\">[email protected]</a><br/>KYC is a one time exercise while dealing in securities markets – once KYC is done through a SEBI registered intermediary (broker, DP, Mutual Fund etc.), you need not undergo the same process again when you approach another intermediary.</p>,\n",
              " <p>No need to issue cheques by investors while subscribing to an IPO. Just write the bank account number and sign in the application form to authorise your bank to make payment in case of allotment. No worries for refund as the money remains in the investor’s account.</p>,\n",
              " <p>Investors are requested to note that Alice Blue Financial Services Private Limited is permitted to receive money from investor through designated bank accounts only named as Up streaming Client Nodal Bank Account (USCNBA). Alice Blue Financial Services Private Limited is also required to disclose these USCNB accounts to Stock Exchange. Hence, you are requested to use following USCNB accounts only for the purpose of dealings in your trading account with us. The details of these USCNB accounts are also displayed by Stock Exchanges on their website under “Know/ Locate your Stock Broker. <a href=\"https://alicebluewebsite.s3.ap-south-1.amazonaws.com/wp-content/uploads/2024/04/16043642/USNCBA.pdf\" rel=\"noopener\" target=\"_blank\">Bank Details.</a></p>,\n",
              " <p>*T&amp;C apply</p>]"
            ]
          },
          "metadata": {},
          "execution_count": 29
        }
      ]
    },
    {
      "cell_type": "code",
      "source": [
        "for para in paragraph:\n",
        "  print(para.get_text())"
      ],
      "metadata": {
        "colab": {
          "base_uri": "https://localhost:8080/"
        },
        "id": "YxpBUp5jvQcs",
        "outputId": "57359f46-c428-4e0c-b076-daea8e1e11ee"
      },
      "execution_count": 30,
      "outputs": [
        {
          "output_type": "stream",
          "name": "stdout",
          "text": [
            "Home -- Finance -- Top Companies In India By Net Profit\n",
            "\n",
            "5 min read \n",
            "The table below shows the Top Stocks in India by Net Profit with Highest Market Cap.\n",
            "The market capitalization of Reliance Industries Ltd is ₹2,00,450.38 crore. Its one-year return percentage stands at 37.23%. It is currently 0.15% away from its 52-week high. The net income reported is ₹66,702 crore.\n",
            "The Indian company operates in hydrocarbon exploration, petroleum refining, petrochemicals, renewables, retail, and digital services. Its segments encompass Oil to Chemicals (O2C), Oil and Gas, Retail, and Digital Services. O2C involves refining, petrochemicals, fuel retailing, and transportation fuels, while Oil and Gas focuses on crude oil and natural gas exploration. Retail covers consumer retail and related services, and Digital Services offers various digital services.\n",
            "The market capitalization of the State Bank of India is ₹6,63,455.65 crore. Its one-year return percentage stands at 37.45%. It is currently 0.69% away from its 52-week high. The net income reported is ₹55,648.17 crore.\n",
            "The company, Headquartered in India, offers a diverse array of banking and financial services to individuals, businesses, and institutions worldwide. Its operations span various segments, including Treasury, Corporate/Wholesale Banking, Retail Banking, Insurance, and other banking services, catering to a wide range of clientele.\n",
            "The market capitalization of HDFC Bank Ltd is ₹10,51,261.91 crore. Its one-year return percentage stands at -17.31%. It is currently 26.98% away from its 52-week high. The net income reported is ₹45,997.11 crore.\n",
            "The company is a comprehensive financial services conglomerate offering a wide array of banking, insurance, and mutual fund services through its subsidiaries. It serves diverse banking needs, encompassing commercial, investment, and branch banking, with segments such as Treasury, Retail Banking (including Digital Banking), and Wholesale Banking, catering to various clientele. \n",
            "Subsidiaries like HDFC Securities Ltd., HDB Financial Services Ltd., HDFC Asset Management Co. Ltd, and HDFC ERGO General Insurance Co. Ltd further extend its reach and offerings.\n",
            "The market capitalization of Tata Consultancy Services Ltd is ₹14,83,452.06 crore. Its one-year return percentage stands at 17.14%. It is currently 2.06% away from its 52-week high. The net income reported is ₹42,147.00 crore.\n",
            "Headquartered in India, specializes in offering IT services, consulting, and business solutions across various sectors, including Banking, Capital Markets, Consumer Goods, Communications, Education, Energy, Healthcare, High Tech, Insurance, Life Sciences, Manufacturing, Public Services, Retail, and Travel. TCS provides various products such as TCS ADD, TCS BaNCS, TCS BFSI Platforms, TCS CHROMA, and TCS Customer Intelligence & Insights.\n",
            "Additionally, it offers services like Cloud, Cognitive Business Operations, Consulting, Cybersecurity, Data and Analytics, Enterprise Solutions, IoT and Digital Engineering, Sustainability Services, TCS Interactive, and collaborates with AWS, Google Cloud, and Microsoft Cloud.\n",
            "The market capitalization of Life Insurance Corporation Of India is ₹6,77,091.00 crore. Its one-year return percentage stands at 79.00%. It is currently 9.76% away from its 52-week high. The net income reported is ₹35,996.64 crore.\n",
            "An India-based insurance firm operates in life insurance domestically and internationally, offering diverse individual and group insurance solutions spanning participating, non-participating, and unit-linked lines of businesses. \n",
            "With around 44 products, including protection, pension, savings, investment, annuity, health, and variable plans, its portfolio encompasses Saral Jeevan Bima, Saral Pension, Arogya Rakshak, Dhan Rekha, Bima Jyoti, and more.\n",
            "The market capitalization of Oil and Natural Gas Corporation Ltd is ₹3,38,220.81 crore. Its one-year return percentage stands at 81.10%. It is currently 2.53% away from its 52-week high. The net income reported is ₹35,440.45 crore.\n",
            "An Indian company operates in crude oil and natural gas sectors. Its divisions encompass Exploration and Production and Refining and Marketing. Engaged in exploration, development, and production within India and internationally, it also offers downstream services, petrochemicals, power generation, LNG supply, and more.\n",
            "Geographically, it operates in India and beyond, with subsidiaries like Mangalore Refinery and Petrochemicals Limited, Hindustan Petroleum Corporation Limited, ONGC Videsh Limited, Petronet MHB Limited, and HPCL Biofuels Limited, providing a range of products and services including crude oil, natural gas, and petrochemicals.\n",
            "The market capitalization of ICICI Bank Ltd is ₹7,17,713.11 crore. Its one-year return percentage stands at 18.19%. It is currently 3.59% away from its 52-week high. The net income reported is ₹34,036.64 crore.\n",
            "The India-based banking entity offers a spectrum of financial services encompassing commercial banking and treasury operations across six segments. \n",
            "Its retail banking sector generates revenue from credit and debit cards, and third-party product distribution, while the wholesale banking sector extends advances to trusts, firms, and companies. The treasury segment manages the bank’s investment and derivative portfolio. \n",
            "The market capitalization of Coal India Ltd is ₹2,87,398.84 crore. Its one-year return percentage stands at 120.24%. It is currently 0.48% away from its 52-week high. The net income reported is ₹28,165.19 crore.\n",
            "The company an India-based coal mining entity, oversees operations across 83 mining regions spanning eight Indian states. With 322 mines, including 138 underground, 171 opencast, and 13 mixed mines, it also administers auxiliary facilities such as workshops and hospitals. Additionally, it manages 21 training institutes, 76 Vocational Training Centers, and the Indian Institute of Coal Management (IICM), offering diverse programs.\n",
            "The corporation further extends its reach through 11 wholly owned subsidiaries, encompassing Eastern Coalfields Limited, Bharat Coking Coal Limited, Central Coalfields Limited, Western Coalfields Limited, South Eastern Coalfields Limited, Northern Coalfields Limited, Mahanadi Coalfields Limited, Central Mine Planning & Design Institute Limited, CIL Navi Karniya Urja Limited, CIL Solar PV Limited, and Coal India Africana Limitada.\n",
            "The market capitalization of Infosys Ltd is ₹6,89,622.50 crore. Its one-year return percentage stands at 4.58%. It is currently 4.01% away from its 52-week high. The net income reported is ₹24,095.00 crore.\n",
            "The Indian-based firm offers consulting, technology, outsourcing, and digital services across various sectors, including Financial Services, Retail, Communication, Energy, Utilities, Resources, Services, Manufacturing, Hi-Tech, Life Sciences, and others. \n",
            "Its core services encompass application management, proprietary development, validation, product engineering, infrastructure management, and enterprise application support. Additionally, it provides products and platforms such as Finacle, Edge Suite, Panaya, Infosys Equinox, Helix, Applied AI, Cortex, Stater, and McCamish, and operates Danske Bank’s IT center in India.\n",
            "The market capitalization of ITC Ltd is ₹5,13,577.98 crore. Its one-year return percentage stands at 6.50%. It is currently 21.42% away from its 52-week high. The net income reported is ₹19,191.66 crore.\n",
            "The company, headquartered in India, operates across various segments: Fast Moving Consumer Goods (FMCG), Hotels, Paperboards, Paper and Packaging, and Agri-Business. Its FMCG division encompasses cigarettes, personal care items, safety matches, and packaged foods. \n",
            "The Paper and Packaging segment includes specialty paper and flexible packaging. The Agri-Business segment includes wheat, rice, spices, and coffee. The hotel division boasts six distinct brands, from luxury to leisure and heritage.\n",
            "\n",
            "Top Stocks in India by Net Profit #1: Reliance Industries Ltd\n",
            "Top Stocks in India by Net Profit #2: State Bank of India\n",
            "Top Stocks in India by Net Profit #3: HDFC Bank Ltd\n",
            "Top Stocks in India by Net Profit #4: Tata Consultancy Services Ltd\n",
            "Top Stocks in India by Net Profit #5: Life Insurance Corporation Of India\n",
            "These stocks are listed based on the highest net profit.\n",
            "Reliance Industries Ltd emerges as India’s most profitable company with a staggering net sales figure of 66,702.00 crore, showcasing its dominance and success in the market.\n",
            "To calculate net profit, subtract total expenses from total revenue. The formula is: Net Profit = Total Revenue – Total Expenses. This figure represents the company’s profitability after accounting for all costs.\n",
            "Net profit is the earnings left after deducting all expenses from total revenue, reflecting the company’s overall profitability. Gross profit is revenue minus the cost of goods sold, excluding other expenses.\n",
            "\n",
            "We hope you’re clear on the topic, but there’s more to explore in stocks, commodities, mutual funds, and related areas. Here are important topics to learn about.\n",
            "Disclaimer: The above article is written for educational purposes, and the companies’ data mentioned in the article may change with respect to time The securities quoted are exemplary and are not recommendatory.\n",
            "The table below shows the best ship building stocks in India based on the highest market capitalization. Name Market Cap (Cr) Close Price Mazagon Dock\n",
            "The table below shows the best three wheeler stocks in India based on the highest market capitalization. Name Market Cap (Cr) Close Price Mahindra and\n",
            "AU Small Finance Bank Ltd’s fundamental analysis highlights key financial metrics including market capitalization of ₹46,974.68 crore, PE ratio of 30.61, and return on equity\n",
            "© 2023, Alice Blue Financial Services (P) Ltd, All rights reserved.\n",
            "Connect with us\n",
            " \n",
            " \n",
            " \n",
            " \n",
            "\n",
            "\n",
            "Attention Investors! \n",
            "\n",
            "Stock Brokers can accept securities as margin from clients only by way of pledge in the depository system w.e.f. September 1, 2020.  Update your mobile number & email Id with your stock broker/depository participant and receive OTP directly from the depository on your email id and/or mobile number to create a pledge.   Pay 20% upfront margin of the transaction early to trade in the cash market segment.   Investors may please refer to the Exchange’s Frequently Asked Questions (FAQs) issued vide circular reference NSE/INSP/45191 dated July 31, 2020, and NSE/INSP/45534 dated August 31, 2020, and other guidelines issued from time to time in this regard.   Check your Securities /MF/ Bonds in the consolidated account statement issued by NSDL/CDSL every month.\n",
            "Corporate Office: No. 153/2, 3rd Floor, M.R.B.Arcade, Bagalur Main Road, Dwaraka Nagar, Yelahanka, Bengaluru – 560 063, Karnataka.Registered Office: Old No.56/2 ,New No.58, LIC Nagar, Vinayagar Kovil Street, Erode -8,Tamil Nadu– 638002.Alice Blue Financial Services (P) Ltd : NSE EQ | NSE FO | NSE CDS-90112 SEBI REG : INZ000156038Alice Blue Financial Services (P) Ltd : BSE EQ | BSE FO | BSE CD-6670 SEBI REG : INZ000156038Alice Blue Financial Services (P) Ltd : CDSL DP ID 12085300 DP SEBI REG : IN-DP-364-2018Alice Blue Financial Services (P) Ltd : MCX-56710 SEBI REG : INZ000156038We hereby declare that we are doing PRO trading\n",
            "Procedure to file a complaint on SEBI SCORES : Register on SCORES portal and SEBI SCORES 2.0.  Mandatory details for filing complaints on SCORES: Name, PAN, Address, Mobile Number, E-mail ID. Benefits: Effective Communication, Speedy redressal of the grievances\n",
            "Click on the provided link to learn about the process for submitting a complaint on the ODR platform for resolving investor grievances.\n",
            "Investment in securities markets are subject to market risks, read all the related documents carefully before investing. Brokerage will not exceed SEBI prescribed limit.\n",
            "For queries regarding account opening or activation, email to [email protected] and for fund updates, email to [email protected]\n",
            "Disclaimer : Prevent unauthorized transactions in your account. Update your mobile numbers/email IDs with your stock brokers. Receive information of your transactions directly from Exchange on your mobile/email at the end of the day. Issued in the interest of investors. All clients have to update their email id and mobile number with Member : Investor Grievance [email protected]KYC is a one time exercise while dealing in securities markets – once KYC is done through a SEBI registered intermediary (broker, DP, Mutual Fund etc.), you need not undergo the same process again when you approach another intermediary.\n",
            "No need to issue cheques by investors while subscribing to an IPO. Just write the bank account number and sign in the application form to authorise your bank to make payment in case of allotment. No worries for refund as the money remains in the investor’s account.\n",
            "Investors are requested to note that Alice Blue Financial Services Private Limited is permitted to receive money from investor through designated bank accounts only named as Up streaming Client Nodal Bank Account (USCNBA). Alice Blue Financial Services Private Limited is also required to disclose these USCNB accounts to Stock Exchange. Hence, you are requested to use following USCNB accounts only for the purpose of dealings in your trading account with us. The details of these USCNB accounts are also displayed by Stock Exchanges on their website under “Know/ Locate your Stock Broker. Bank Details.\n",
            "*T&C apply\n"
          ]
        }
      ]
    },
    {
      "cell_type": "code",
      "source": [
        "for head in headers:\n",
        "  print(head.get_text())"
      ],
      "metadata": {
        "colab": {
          "base_uri": "https://localhost:8080/"
        },
        "id": "PcPT1xjJv0JM",
        "outputId": "dcc1fca7-9981-45d3-f94f-f13b1f1ea2d5"
      },
      "execution_count": 31,
      "outputs": [
        {
          "output_type": "stream",
          "name": "stdout",
          "text": [
            "Top Companies In India By Net Profit\n",
            "\n",
            "Top Stocks in India by Net Profit\n",
            "Top Companies In India By Net Profit – FAQ\n"
          ]
        }
      ]
    },
    {
      "cell_type": "code",
      "source": [],
      "metadata": {
        "id": "mffRISqIwAwy"
      },
      "execution_count": null,
      "outputs": []
    }
  ]
}