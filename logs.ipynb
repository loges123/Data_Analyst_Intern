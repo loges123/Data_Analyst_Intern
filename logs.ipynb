{
  "nbformat": 4,
  "nbformat_minor": 0,
  "metadata": {
    "colab": {
      "provenance": []
    },
    "kernelspec": {
      "name": "python3",
      "display_name": "Python 3"
    },
    "language_info": {
      "name": "python"
    }
  },
  "cells": [
    {
      "cell_type": "code",
      "execution_count": 2,
      "metadata": {
        "colab": {
          "base_uri": "https://localhost:8080/",
          "height": 17
        },
        "id": "JtG849kTfTzf",
        "outputId": "fc4826ec-bf89-4616-e797-4b86eed92998"
      },
      "outputs": [
        {
          "output_type": "display_data",
          "data": {
            "text/plain": [
              "<IPython.core.display.Javascript object>"
            ],
            "application/javascript": [
              "\n",
              "    async function download(id, filename, size) {\n",
              "      if (!google.colab.kernel.accessAllowed) {\n",
              "        return;\n",
              "      }\n",
              "      const div = document.createElement('div');\n",
              "      const label = document.createElement('label');\n",
              "      label.textContent = `Downloading \"${filename}\": `;\n",
              "      div.appendChild(label);\n",
              "      const progress = document.createElement('progress');\n",
              "      progress.max = size;\n",
              "      div.appendChild(progress);\n",
              "      document.body.appendChild(div);\n",
              "\n",
              "      const buffers = [];\n",
              "      let downloaded = 0;\n",
              "\n",
              "      const channel = await google.colab.kernel.comms.open(id);\n",
              "      // Send a message to notify the kernel that we're ready.\n",
              "      channel.send({})\n",
              "\n",
              "      for await (const message of channel.messages) {\n",
              "        // Send a message to notify the kernel that we're ready.\n",
              "        channel.send({})\n",
              "        if (message.buffers) {\n",
              "          for (const buffer of message.buffers) {\n",
              "            buffers.push(buffer);\n",
              "            downloaded += buffer.byteLength;\n",
              "            progress.value = downloaded;\n",
              "          }\n",
              "        }\n",
              "      }\n",
              "      const blob = new Blob(buffers, {type: 'application/binary'});\n",
              "      const a = document.createElement('a');\n",
              "      a.href = window.URL.createObjectURL(blob);\n",
              "      a.download = filename;\n",
              "      div.appendChild(a);\n",
              "      a.click();\n",
              "      div.remove();\n",
              "    }\n",
              "  "
            ]
          },
          "metadata": {}
        },
        {
          "output_type": "display_data",
          "data": {
            "text/plain": [
              "<IPython.core.display.Javascript object>"
            ],
            "application/javascript": [
              "download(\"download_17371845-b601-4001-89f3-9431f8b588e5\", \"mobile_processors.csv\", 5545)"
            ]
          },
          "metadata": {}
        },
        {
          "output_type": "display_data",
          "data": {
            "text/plain": [
              "<IPython.core.display.Javascript object>"
            ],
            "application/javascript": [
              "\n",
              "    async function download(id, filename, size) {\n",
              "      if (!google.colab.kernel.accessAllowed) {\n",
              "        return;\n",
              "      }\n",
              "      const div = document.createElement('div');\n",
              "      const label = document.createElement('label');\n",
              "      label.textContent = `Downloading \"${filename}\": `;\n",
              "      div.appendChild(label);\n",
              "      const progress = document.createElement('progress');\n",
              "      progress.max = size;\n",
              "      div.appendChild(progress);\n",
              "      document.body.appendChild(div);\n",
              "\n",
              "      const buffers = [];\n",
              "      let downloaded = 0;\n",
              "\n",
              "      const channel = await google.colab.kernel.comms.open(id);\n",
              "      // Send a message to notify the kernel that we're ready.\n",
              "      channel.send({})\n",
              "\n",
              "      for await (const message of channel.messages) {\n",
              "        // Send a message to notify the kernel that we're ready.\n",
              "        channel.send({})\n",
              "        if (message.buffers) {\n",
              "          for (const buffer of message.buffers) {\n",
              "            buffers.push(buffer);\n",
              "            downloaded += buffer.byteLength;\n",
              "            progress.value = downloaded;\n",
              "          }\n",
              "        }\n",
              "      }\n",
              "      const blob = new Blob(buffers, {type: 'application/binary'});\n",
              "      const a = document.createElement('a');\n",
              "      a.href = window.URL.createObjectURL(blob);\n",
              "      a.download = filename;\n",
              "      div.appendChild(a);\n",
              "      a.click();\n",
              "      div.remove();\n",
              "    }\n",
              "  "
            ]
          },
          "metadata": {}
        },
        {
          "output_type": "display_data",
          "data": {
            "text/plain": [
              "<IPython.core.display.Javascript object>"
            ],
            "application/javascript": [
              "download(\"download_6d589aaa-628d-44b9-9a54-9041b710abac\", \"mobile_processors.json\", 18166)"
            ]
          },
          "metadata": {}
        }
      ],
      "source": [
        "import requests\n",
        "import pandas as pd\n",
        "from bs4 import BeautifulSoup\n",
        "from google.colab import files\n",
        "\n",
        "# URL for the page\n",
        "url = 'https://www.cashify.in/best-processor-for-mobile-phone-ranking-list'\n",
        "\n",
        "# Request the content of the page\n",
        "ws = requests.get(url)\n",
        "\n",
        "# Parse the page content\n",
        "soup = BeautifulSoup(ws.content, 'html.parser')\n",
        "\n",
        "# Find the table\n",
        "table = soup.find('table')\n",
        "\n",
        "# Extract the table headers (th)\n",
        "table_th = table.find_all('th')\n",
        "table_text = [th.text.strip() for th in table_th]\n",
        "\n",
        "# Create a DataFrame with the table headers\n",
        "df = pd.DataFrame(columns=table_text)\n",
        "\n",
        "# Extract all rows (tr) from the table\n",
        "table_tr = table.find_all('tr')\n",
        "\n",
        "# Loop through table rows (except the first one, which is the header)\n",
        "for table_td in table_tr[1:]:\n",
        "    table_td1 = table_td.find_all('td')\n",
        "    table_data1 = [hr.text.strip() for hr in table_td1]\n",
        "    length = len(df)\n",
        "    df.loc[length] = table_data1\n",
        "\n",
        "# Save the DataFrame as CSV\n",
        "csv_file_path = 'mobile_processors.csv'\n",
        "df.to_csv(csv_file_path, index=False)\n",
        "\n",
        "files.download(csv_file_path)\n",
        "\n",
        "# Save the DataFrame as JSON\n",
        "json_file_path = 'mobile_processors.json'\n",
        "df.to_json(json_file_path, orient='records', indent=4)\n",
        "\n",
        "files.download(json_file_path)\n",
        "\n"
      ]
    }
  ]
}